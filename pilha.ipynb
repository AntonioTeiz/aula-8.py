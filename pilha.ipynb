{
 "cells": [
  {
   "cell_type": "markdown",
   "metadata": {},
   "source": [
    "# Implementação de Pilha\n",
    "\n",
    "Operações básicas da Pilha\n",
    "\n",
    "- push\n",
    "- pop\n",
    "- peek\n",
    "\n",
    "Operações complementares\n",
    "\n",
    "- is_empty"
   ]
  },
  {
   "cell_type": "code",
   "execution_count": 6,
   "metadata": {},
   "outputs": [],
   "source": [
    "# Classes No e Pilha\n",
    "\n",
    "class No:\n",
    "    def __init__(self, valor):\n",
    "        self.valor = valor\n",
    "        self.proximo = None\n",
    "\n",
    "\n",
    "class Pilha:\n",
    "    def __init__(self):\n",
    "        self.topo = None\n",
    "\n",
    "    # Adiciona um elemento no topo da pilha\n",
    "    def push(self, valor):\n",
    "        if isinstance(valor, str):\n",
    "            for char in valor:\n",
    "                novo_no = No(char)\n",
    "                novo_no.proximo = self.topo\n",
    "                self.topo = novo_no\n",
    "        else:\n",
    "            novo_no = No(valor)\n",
    "            novo_no.proximo = self.topo\n",
    "            self.topo = novo_no\n",
    "\n",
    "    # Remove um elemento do topo da pilha\n",
    "    def pop(self):\n",
    "        if self.topo is not None:\n",
    "            removido = self.topo\n",
    "            self.topo = self.topo.proximo\n",
    "            return removido.valor\n",
    "        raise Exception(\"Pilha vazia.\")\n",
    "\n",
    "    # Acessar o topo da pilha sem realizar a remoção\n",
    "    def peek(self):\n",
    "        if self.topo is not None:\n",
    "            return self.topo.valor\n",
    "        raise Exception(\"Pilha vazia.\")\n",
    "\n",
    "\n",
    "    def inverter_string(self, string):\n",
    "        self.push(string)\n",
    "\n",
    "        string_invertida = \"\"\n",
    "        while self.topo is not None:\n",
    "            string_invertida += self.peek()\n",
    "            self.pop()\n",
    "\n",
    "        return string_invertida"
   ]
  },
  {
   "cell_type": "code",
   "execution_count": 7,
   "metadata": {},
   "outputs": [],
   "source": [
    "class Pilha(Pilha):\n",
    "    def is_empty(self):\n",
    "        return self.topo is None\n",
    "        \n",
    "        # if self.topo is None:\n",
    "        #     return True\n",
    "        # else:\n",
    "        #     return False"
   ]
  },
  {
   "cell_type": "code",
   "execution_count": 8,
   "metadata": {},
   "outputs": [
    {
     "data": {
      "text/plain": [
       "'kamod'"
      ]
     },
     "execution_count": 8,
     "metadata": {},
     "output_type": "execute_result"
    }
   ],
   "source": [
    "pilha = Pilha()\n",
    "\n",
    "text = input(\"digite uma palavra: \")\n",
    "pilha.inverter_string(text)\n",
    "\n",
    "# print(pilha.is_empty())\n",
    "\n",
    "# pilha.push(1)\n",
    "# pilha.push(2)\n",
    "# pilha.push(3)\n",
    "\n",
    "# print(pilha.is_empty())\n",
    "\n",
    "# print(pilha.peek())\n",
    "# print(pilha.pop())\n",
    "# print(pilha.peek())"
   ]
  },
  {
   "cell_type": "code",
   "execution_count": null,
   "metadata": {},
   "outputs": [],
   "source": []
  }
 ],
 "metadata": {
  "kernelspec": {
   "display_name": "gpuTorch",
   "language": "python",
   "name": "python3"
  },
  "language_info": {
   "codemirror_mode": {
    "name": "ipython",
    "version": 3
   },
   "file_extension": ".py",
   "mimetype": "text/x-python",
   "name": "python",
   "nbconvert_exporter": "python",
   "pygments_lexer": "ipython3",
   "version": "3.12.2"
  }
 },
 "nbformat": 4,
 "nbformat_minor": 2
}
